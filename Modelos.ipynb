{
  "nbformat": 4,
  "nbformat_minor": 0,
  "metadata": {
    "colab": {
      "provenance": [],
      "include_colab_link": true
    },
    "kernelspec": {
      "name": "python3",
      "display_name": "Python 3"
    },
    "language_info": {
      "name": "python"
    }
  },
  "cells": [
    {
      "cell_type": "markdown",
      "metadata": {
        "id": "view-in-github",
        "colab_type": "text"
      },
      "source": [
        "<a href=\"https://colab.research.google.com/github/cr1085/ejemplo/blob/main/Modelos.ipynb\" target=\"_parent\"><img src=\"https://colab.research.google.com/assets/colab-badge.svg\" alt=\"Open In Colab\"/></a>"
      ]
    },
    {
      "cell_type": "code",
      "execution_count": null,
      "metadata": {
        "id": "yf3lswH94heg"
      },
      "outputs": [],
      "source": [
        "# Machine learning\n",
        "from sklearn.linear_model import LinearRegression\n",
        "import numpy as np\n",
        "\n",
        "x=np.array([[5000], [6000], [7000]])\n",
        "y=np.array([20,50,60,]) #Relación lineal\n",
        "\n",
        "modelo=LinearRegression()\n",
        "modelo.fit(Precio del producto, Cantidad vendida por mes)\n",
        "\n",
        "prediccion = modelo.predict([[5]])\n",
        "print(f\"Predicción para x=5: {prediccion}\")\n",
        "\n",
        "\n",
        "# from sklearn.linear_model import LinearRegression\n",
        "#  Importamos la clase LinearRegression desde la librería sklearn. Esta clase nos permite crear un modelo de regresión lineal.\n",
        "# import numpy as np\n",
        "#  Importamos numpy, una librería muy usada para manejar arreglos numéricos, especialmente vectores y matrices.\n",
        "# x = np.array([[1], [2], [3], [4]])\n",
        "# y = np.array([2, 4, 6, 8]) # Relación lineal\n",
        "#  Definimos los datos:\n",
        "# x son los valores de entrada (independientes).\n",
        "# y son los resultados esperados (dependientes).\n",
        "# La relación es lineal perfecta: y = 2 * x.\n",
        "# modelo = LinearRegression()\n",
        "#  Creamos un objeto del modelo. Aún no está entrenado, solo inicializado.\n",
        "# modelo.fit(x, y)\n",
        "#  Entrenamos el modelo con los datos. Aquí el modelo encuentra la mejor recta que se ajusta a los puntos dados.\n",
        "# prediccion = modelo.predict([[5]])\n",
        "#  Le pedimos al modelo que prediga el resultado para x = 5. Como el modelo aprendió que y = 2x, debe dar 10 o muy cerca.\n",
        "# print(\"Predicción para x=5:\", prediccion)\n",
        "#  Imprime el resultado de la predicción.\n",
        "#  Resultado esperado:\n",
        "# Predicción para x=5: [10.]"
      ]
    },
    {
      "cell_type": "code",
      "source": [
        "# Deep Learning\n",
        "from tensorflow.keras.models import Sequential\n",
        "from tensorflow.keras.layers import Dense\n",
        "import numpy as np\n",
        "\n",
        "# Datos simples\n",
        "x=np.array([[0],[1]])\n",
        "y=np.array([[0],[1]])\n",
        "\n",
        "# Modelo\n",
        "modelo=Sequential()\n",
        "modelo.add(Dense(units=1, input_shape=[1]))\n",
        "modelo.compile(optimizer='sgd', loss='mean_squared_error')\n",
        "modelo.fit(x, y, epochs=100, verbose=0)\n",
        "\n",
        "# salida\n",
        "print(f\"predicción para 2: {modelo.predict(np.array([[2]]))}\")\n",
        "\n",
        "# from tensorflow.keras.models import Sequential\n",
        "#  Importamos Sequential, que permite crear un modelo capa por capa.\n",
        "# from tensorflow.keras.layers import Dense\n",
        "#  Importamos Dense, que representa una capa completamente conectada de neuronas.\n",
        "# import numpy as np\n",
        "#  Importamos numpy para crear los datos como arreglos.\n",
        "# x = np.array([[0], [1]])\n",
        "# y = np.array([[0], [1]])\n",
        "#  Datos de entrenamiento:\n",
        "# x = 0 → y = 0\n",
        "# x = 1 → y = 1\n",
        "# Esto simula una relación de identidad: la red debe aprender que la salida es igual a la entrada.\n",
        "# modelo = Sequential()\n",
        "#  Creamos el modelo vacío.\n",
        "# modelo.add(Dense(units=1, input_shape=[1]))\n",
        "#  Agregamos una capa densa (neuronal) con:\n",
        "# units=1: una sola neurona.\n",
        "# input_shape=[1]: recibe un valor como entrada.\n",
        "# modelo.compile(optimizer='sgd', loss='mean_squared_error')\n",
        "#  Compilamos el modelo, especificando:\n",
        "# optimizer='sgd': algoritmo de entrenamiento, aquí \"Descenso de Gradiente Estocástico\".\n",
        "# loss='mean_squared_error': función de pérdida, mide qué tan lejos está la predicción del valor real.\n",
        "# modelo.fit(x, y, epochs=100, verbose=0)\n",
        "#  Entrenamos el modelo con los datos x y y.\n",
        "# epochs=100: número de veces que el modelo ve todos los datos.\n",
        "# verbose=0: no muestra el progreso en pantalla (para que no llene el output).\n",
        "# print(\"Predicción para x=2:\", modelo.predict(np.array([[2]])))\n",
        "#  Le pedimos al modelo que prediga el valor para x = 2.\n",
        "# Como aprendió la relación y = x, debería retornar algo cercano a 2.\n",
        "#  Resultado típico (varía):\n",
        "# Predicción para x=2: [[1.98]]"
      ],
      "metadata": {
        "id": "BcZswgVt4mqF"
      },
      "execution_count": null,
      "outputs": []
    },
    {
      "cell_type": "markdown",
      "source": [
        "ANDERSON MENDOZA"
      ],
      "metadata": {
        "id": "DpPGtaxR9V5-"
      }
    },
    {
      "cell_type": "code",
      "source": [
        "# hazlo mas simple, comentarios cortos en lowercase\n",
        "\n",
        "from sklearn.linear_model import LinearRegression\n",
        "import numpy as np\n",
        "\n",
        "# datos: inversión en publicidad vs. ventas obtenidas\n",
        "inversion = np.array([[1000], [2300], [3000], [4200], [5500]])\n",
        "ventas = np.array([2500, 4800, 6100, 8300, 11200])\n",
        "\n",
        "# crear un modelo de predicción\n",
        "modelo = LinearRegression()\n",
        "\n",
        "# entrenar el modelo con nuestros datos\n",
        "modelo.fit(inversion, ventas)\n",
        "\n",
        "# hacer una predicción: ¿cuánto venderemos si invertimos $5,000?\n",
        "inversion_nueva = [[5000]]\n",
        "prediccion_de_ventas = modelo.predict(inversion_nueva)\n",
        "\n",
        "# mostrar el resultado de forma simple\n",
        "print(f\"invirtiendo ${inversion_nueva[0][0]}, la prediccion de ventas es: ${int(prediccion_de_ventas[0])}\")"
      ],
      "metadata": {
        "id": "oA5C0dtt9bMA",
        "colab": {
          "base_uri": "https://localhost:8080/"
        },
        "outputId": "20c8321e-2250-4310-cf58-69dc4102f414"
      },
      "execution_count": null,
      "outputs": [
        {
          "output_type": "stream",
          "name": "stdout",
          "text": [
            "invirtiendo $5000, la prediccion de ventas es: $10038\n"
          ]
        }
      ]
    },
    {
      "cell_type": "markdown",
      "source": [
        "-------------------------------------------------------------------------------\n"
      ],
      "metadata": {
        "id": "PF4RR3xP9a8D"
      }
    },
    {
      "cell_type": "code",
      "source": [],
      "metadata": {
        "id": "LqA72Rb-AN-G"
      },
      "execution_count": null,
      "outputs": []
    }
  ]
}